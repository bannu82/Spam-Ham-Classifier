{
 "cells": [
  {
   "cell_type": "code",
   "execution_count": 106,
   "id": "34c59b80-ee30-40e7-a410-4a29b8880b11",
   "metadata": {},
   "outputs": [],
   "source": [
    "import pandas as pd \n",
    "import re"
   ]
  },
  {
   "cell_type": "code",
   "execution_count": 107,
   "id": "3dd8922e-7f86-4ad6-97e6-1196c90ed32d",
   "metadata": {},
   "outputs": [],
   "source": [
    "f = open('SMSSpamCollection' , 'r' , encoding='utf-8')\n",
    "data = f.read()"
   ]
  },
  {
   "cell_type": "code",
   "execution_count": 108,
   "id": "4740504d-e924-4596-88c2-9400323ce59b",
   "metadata": {},
   "outputs": [],
   "source": [
    "pat1 = \"(ham)|(spam)\"\n",
    "splitd_data = re.split(pat1 , data)[1:]"
   ]
  },
  {
   "cell_type": "code",
   "execution_count": 109,
   "id": "42a218d0-7c0f-4c60-a83d-75d2ec3cbb93",
   "metadata": {},
   "outputs": [],
   "source": [
    "clas = []\n",
    "mail = []\n",
    "for i in range(len(splitd_data)):\n",
    "    if i%3 ==1 or i%3==0:\n",
    "        if not splitd_data[i]==None:\n",
    "            # print(splitd_data[i])\n",
    "            clas.append(splitd_data[i])\n",
    "    if i%3 == 2:\n",
    "        mail.append(splitd_data[i].strip('\\t').strip('\\n'))\n",
    "    # elif i%3 ==\n",
    "    # print(f'idx {i%3} : {splitd_data[i]} ')"
   ]
  },
  {
   "cell_type": "code",
   "execution_count": 110,
   "id": "4ff1e1c5-cf72-46cd-a19a-4c3b2a27d049",
   "metadata": {},
   "outputs": [],
   "source": [
    "df = pd.DataFrame({  \"text\":mail , \"target\":clas })"
   ]
  },
  {
   "cell_type": "code",
   "execution_count": 111,
   "id": "0c109f48-d16f-45f2-a685-fe3fd5c6d78a",
   "metadata": {},
   "outputs": [
    {
     "data": {
      "text/html": [
       "<div>\n",
       "<style scoped>\n",
       "    .dataframe tbody tr th:only-of-type {\n",
       "        vertical-align: middle;\n",
       "    }\n",
       "\n",
       "    .dataframe tbody tr th {\n",
       "        vertical-align: top;\n",
       "    }\n",
       "\n",
       "    .dataframe thead th {\n",
       "        text-align: right;\n",
       "    }\n",
       "</style>\n",
       "<table border=\"1\" class=\"dataframe\">\n",
       "  <thead>\n",
       "    <tr style=\"text-align: right;\">\n",
       "      <th></th>\n",
       "      <th>text</th>\n",
       "      <th>target</th>\n",
       "    </tr>\n",
       "  </thead>\n",
       "  <tbody>\n",
       "    <tr>\n",
       "      <th>3378</th>\n",
       "      <td>You only hate me. You can call any but you did...</td>\n",
       "      <td>ham</td>\n",
       "    </tr>\n",
       "    <tr>\n",
       "      <th>4648</th>\n",
       "      <td>\" prakasam ennal prabha 'That mns prabha is'LO...</td>\n",
       "      <td>ham</td>\n",
       "    </tr>\n",
       "    <tr>\n",
       "      <th>2497</th>\n",
       "      <td>Lol that's different. I don't go trying to fin...</td>\n",
       "      <td>ham</td>\n",
       "    </tr>\n",
       "    <tr>\n",
       "      <th>1609</th>\n",
       "      <td>Carlos is taking his sweet time as usual so le...</td>\n",
       "      <td>ham</td>\n",
       "    </tr>\n",
       "    <tr>\n",
       "      <th>2151</th>\n",
       "      <td>Alright took the morphine. Back in yo.</td>\n",
       "      <td>ham</td>\n",
       "    </tr>\n",
       "    <tr>\n",
       "      <th>754</th>\n",
       "      <td>Do you realize that in about 40 years, we'll h...</td>\n",
       "      <td>spam</td>\n",
       "    </tr>\n",
       "    <tr>\n",
       "      <th>178</th>\n",
       "      <td>Turns out my friends are staying for the whole...</td>\n",
       "      <td>ham</td>\n",
       "    </tr>\n",
       "    <tr>\n",
       "      <th>1623</th>\n",
       "      <td>Mm i had my food da from out</td>\n",
       "      <td>ham</td>\n",
       "    </tr>\n",
       "    <tr>\n",
       "      <th>3609</th>\n",
       "      <td>I've sent my wife your text. After we buy them...</td>\n",
       "      <td>ham</td>\n",
       "    </tr>\n",
       "    <tr>\n",
       "      <th>3380</th>\n",
       "      <td>Can... I'm free...</td>\n",
       "      <td>ham</td>\n",
       "    </tr>\n",
       "  </tbody>\n",
       "</table>\n",
       "</div>"
      ],
      "text/plain": [
       "                                                   text target\n",
       "3378  You only hate me. You can call any but you did...    ham\n",
       "4648  \" prakasam ennal prabha 'That mns prabha is'LO...    ham\n",
       "2497  Lol that's different. I don't go trying to fin...    ham\n",
       "1609  Carlos is taking his sweet time as usual so le...    ham\n",
       "2151             Alright took the morphine. Back in yo.    ham\n",
       "754   Do you realize that in about 40 years, we'll h...   spam\n",
       "178   Turns out my friends are staying for the whole...    ham\n",
       "1623                       Mm i had my food da from out    ham\n",
       "3609  I've sent my wife your text. After we buy them...    ham\n",
       "3380                                 Can... I'm free...    ham"
      ]
     },
     "execution_count": 111,
     "metadata": {},
     "output_type": "execute_result"
    }
   ],
   "source": [
    "df.sample(10)"
   ]
  },
  {
   "cell_type": "code",
   "execution_count": 112,
   "id": "927b7481-cbcc-4477-84a4-55a1c0c5f1fe",
   "metadata": {},
   "outputs": [],
   "source": [
    "from sklearn.preprocessing import LabelEncoder "
   ]
  },
  {
   "cell_type": "code",
   "execution_count": 113,
   "id": "8b8076b2-3e03-4518-b99e-432a7588947b",
   "metadata": {},
   "outputs": [],
   "source": [
    "encoder = LabelEncoder()"
   ]
  },
  {
   "cell_type": "code",
   "execution_count": 114,
   "id": "b1ce5894-c7c7-4a43-81de-8df7502678c5",
   "metadata": {},
   "outputs": [],
   "source": [
    "df.target = encoder.fit_transform(df['target'])"
   ]
  },
  {
   "cell_type": "code",
   "execution_count": 115,
   "id": "b076e42c-c0a0-403c-8c31-a9ba3972f747",
   "metadata": {},
   "outputs": [
    {
     "data": {
      "text/html": [
       "<div>\n",
       "<style scoped>\n",
       "    .dataframe tbody tr th:only-of-type {\n",
       "        vertical-align: middle;\n",
       "    }\n",
       "\n",
       "    .dataframe tbody tr th {\n",
       "        vertical-align: top;\n",
       "    }\n",
       "\n",
       "    .dataframe thead th {\n",
       "        text-align: right;\n",
       "    }\n",
       "</style>\n",
       "<table border=\"1\" class=\"dataframe\">\n",
       "  <thead>\n",
       "    <tr style=\"text-align: right;\">\n",
       "      <th></th>\n",
       "      <th>text</th>\n",
       "      <th>target</th>\n",
       "    </tr>\n",
       "  </thead>\n",
       "  <tbody>\n",
       "    <tr>\n",
       "      <th>0</th>\n",
       "      <td>Go until jurong point, crazy.. Available only ...</td>\n",
       "      <td>0</td>\n",
       "    </tr>\n",
       "    <tr>\n",
       "      <th>1</th>\n",
       "      <td>Ok lar... Joking wif u oni...</td>\n",
       "      <td>0</td>\n",
       "    </tr>\n",
       "    <tr>\n",
       "      <th>2</th>\n",
       "      <td>Free entry in 2 a wkly comp to win FA Cup fina...</td>\n",
       "      <td>1</td>\n",
       "    </tr>\n",
       "    <tr>\n",
       "      <th>3</th>\n",
       "      <td>U dun say so early hor... U c already then say...</td>\n",
       "      <td>0</td>\n",
       "    </tr>\n",
       "    <tr>\n",
       "      <th>4</th>\n",
       "      <td>Nah I don't think he goes to usf, he lives aro...</td>\n",
       "      <td>0</td>\n",
       "    </tr>\n",
       "  </tbody>\n",
       "</table>\n",
       "</div>"
      ],
      "text/plain": [
       "                                                text  target\n",
       "0  Go until jurong point, crazy.. Available only ...       0\n",
       "1                      Ok lar... Joking wif u oni...       0\n",
       "2  Free entry in 2 a wkly comp to win FA Cup fina...       1\n",
       "3  U dun say so early hor... U c already then say...       0\n",
       "4  Nah I don't think he goes to usf, he lives aro...       0"
      ]
     },
     "execution_count": 115,
     "metadata": {},
     "output_type": "execute_result"
    }
   ],
   "source": [
    "df.head()"
   ]
  },
  {
   "cell_type": "markdown",
   "id": "ac208cd1-943b-4836-8851-99a0cbf6d66c",
   "metadata": {},
   "source": [
    "\n",
    "# 2. EDA"
   ]
  },
  {
   "cell_type": "code",
   "execution_count": 119,
   "id": "1bd63ab5-b849-41d8-8148-225db39a6089",
   "metadata": {},
   "outputs": [
    {
     "data": {
      "text/plain": [
       "target\n",
       "0    4851\n",
       "1     748\n",
       "Name: count, dtype: int64"
      ]
     },
     "execution_count": 119,
     "metadata": {},
     "output_type": "execute_result"
    }
   ],
   "source": [
    "df['target'].value_counts()"
   ]
  },
  {
   "cell_type": "code",
   "execution_count": 122,
   "id": "66740515-8d7b-4c52-a97a-826ef5637abf",
   "metadata": {},
   "outputs": [
    {
     "data": {
      "image/png": "[encoded data removed]",
      "text/plain": [
       "<Figure size 640x480 with 1 Axes>"
      ]
     },
     "metadata": {},
     "output_type": "display_data"
    }
   ],
   "source": [
    "import matplotlib.pyplot as plt\n",
    "\n",
    "plt.pie(df['target'].value_counts() , labels=['ham' , 'spam'] , autopct='%0.2f')\n",
    "plt.show()"
   ]
  },
  {
   "cell_type": "code",
   "execution_count": null,
   "id": "e22ac1b9-8342-4c0b-ba21-ad244901ea3d",
   "metadata": {},
   "outputs": [],
   "source": [
    "# Data is Imbalanced\n"
   ]
  }
 ],
 "metadata": {
  "kernelspec": {
   "display_name": "Python 3 (ipykernel)",
   "language": "python",
   "name": "python3"
  },
  "language_info": {
   "codemirror_mode": {
    "name": "ipython",
    "version": 3
   },
   "file_extension": ".py",
   "mimetype": "text/x-python",
   "name": "python",
   "nbconvert_exporter": "python",
   "pygments_lexer": "ipython3",
   "version": "3.11.4"
  },
  "widgets": {
   "application/vnd.jupyter.widget-state+json": {
    "state": {},
    "version_major": 2,
    "version_minor": 0
   }
  }
 },
 "nbformat": 4,
 "nbformat_minor": 5
}
